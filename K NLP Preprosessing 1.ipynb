{
 "cells": [
  {
   "cell_type": "code",
   "execution_count": 1,
   "id": "bed14374",
   "metadata": {},
   "outputs": [
    {
     "name": "stdout",
     "output_type": "stream",
     "text": [
      "Requirement already satisfied: nltk in c:\\users\\irumj\\anaconda3\\lib\\site-packages (3.8.1)\n",
      "Requirement already satisfied: click in c:\\users\\irumj\\anaconda3\\lib\\site-packages (from nltk) (8.0.4)\n",
      "Requirement already satisfied: joblib in c:\\users\\irumj\\anaconda3\\lib\\site-packages (from nltk) (1.2.0)\n",
      "Requirement already satisfied: regex>=2021.8.3 in c:\\users\\irumj\\anaconda3\\lib\\site-packages (from nltk) (2022.7.9)\n",
      "Requirement already satisfied: tqdm in c:\\users\\irumj\\anaconda3\\lib\\site-packages (from nltk) (4.65.0)\n",
      "Requirement already satisfied: colorama in c:\\users\\irumj\\anaconda3\\lib\\site-packages (from click->nltk) (0.4.6)\n"
     ]
    }
   ],
   "source": [
    "!pip install nltk"
   ]
  },
  {
   "cell_type": "code",
   "execution_count": 2,
   "id": "e3206661",
   "metadata": {},
   "outputs": [],
   "source": [
    "paragraph='''\n",
    "Imran Ahmed Khan Niazi (Urdu: عمران احمد خان نیازی , pronounced [ɪmɾaːn ɛɦməd xaːn nɪjaːziː]; born 5 October 1952) is a Pakistani politician and former cricketer who served as the 22nd prime minister of Pakistan from August 2018 until April 2022. He is the founder and former chairman of the political party Pakistan Tehreek-e-Insaf (PTI) from 1996 to 2023. He was the captain of the Pakistan national cricket team throughout the 1980s and early 1990s.\n",
    "\n",
    "Born in Lahore, Khan graduated from Keble College, Oxford. He began his international cricket career in a 1971 Test series against England. Khan played until 1992, served as the team's captain intermittently between 1982 and 1992, and won the 1992 Cricket World Cup, Pakistan's only victory in the competition. Considered one of cricket's greatest all-rounders, Khan was later inducted into the ICC Cricket Hall of Fame. Founding the Pakistan Tehreek-e-Insaf (PTI) in 1996, Khan won a seat in the National Assembly in the 2002 general election, serving as an opposition member from Mianwali until 2007. PTI boycotted the 2008 general election and became the second-largest party by popular vote in the 2013 general election. In the 2018 general election, running on a populist platform, PTI became the largest party in the National Assembly, and formed a coalition government with independents with Khan as prime minister.\n",
    "'''"
   ]
  },
  {
   "cell_type": "code",
   "execution_count": 3,
   "id": "5febb8e5",
   "metadata": {},
   "outputs": [
    {
     "data": {
      "text/plain": [
       "\"\\nImran Ahmed Khan Niazi (Urdu: عمران احمد خان نیازی , pronounced [ɪmɾaːn ɛɦməd xaːn nɪjaːziː]; born 5 October 1952) is a Pakistani politician and former cricketer who served as the 22nd prime minister of Pakistan from August 2018 until April 2022. He is the founder and former chairman of the political party Pakistan Tehreek-e-Insaf (PTI) from 1996 to 2023. He was the captain of the Pakistan national cricket team throughout the 1980s and early 1990s.\\n\\nBorn in Lahore, Khan graduated from Keble College, Oxford. He began his international cricket career in a 1971 Test series against England. Khan played until 1992, served as the team's captain intermittently between 1982 and 1992, and won the 1992 Cricket World Cup, Pakistan's only victory in the competition. Considered one of cricket's greatest all-rounders, Khan was later inducted into the ICC Cricket Hall of Fame. Founding the Pakistan Tehreek-e-Insaf (PTI) in 1996, Khan won a seat in the National Assembly in the 2002 general election, serving as an opposition member from Mianwali until 2007. PTI boycotted the 2008 general election and became the second-largest party by popular vote in the 2013 general election. In the 2018 general election, running on a populist platform, PTI became the largest party in the National Assembly, and formed a coalition government with independents with Khan as prime minister.\\n\""
      ]
     },
     "execution_count": 3,
     "metadata": {},
     "output_type": "execute_result"
    }
   ],
   "source": [
    "paragraph"
   ]
  },
  {
   "cell_type": "code",
   "execution_count": 4,
   "id": "2776db7e",
   "metadata": {},
   "outputs": [],
   "source": [
    "import nltk \n",
    "from nltk.stem import PorterStemmer\n",
    "from nltk.corpus import stopwords"
   ]
  },
  {
   "cell_type": "code",
   "execution_count": 5,
   "id": "cdc6ed54",
   "metadata": {},
   "outputs": [
    {
     "name": "stderr",
     "output_type": "stream",
     "text": [
      "[nltk_data] Downloading package punkt to\n",
      "[nltk_data]     C:\\Users\\irumj\\AppData\\Roaming\\nltk_data...\n",
      "[nltk_data]   Package punkt is already up-to-date!\n"
     ]
    }
   ],
   "source": [
    "##Tokenization --- convert parragraph into sentence-words\n",
    "nltk.download('punkt')\n",
    "sentences=nltk.sent_tokenize(paragraph)"
   ]
  },
  {
   "cell_type": "code",
   "execution_count": 6,
   "id": "abf26367",
   "metadata": {},
   "outputs": [
    {
     "name": "stdout",
     "output_type": "stream",
     "text": [
      "['\\nImran Ahmed Khan Niazi (Urdu: عمران احمد خان نیازی , pronounced [ɪmɾaːn ɛɦməd xaːn nɪjaːziː]; born 5 October 1952) is a Pakistani politician and former cricketer who served as the 22nd prime minister of Pakistan from August 2018 until April 2022.', 'He is the founder and former chairman of the political party Pakistan Tehreek-e-Insaf (PTI) from 1996 to 2023.', 'He was the captain of the Pakistan national cricket team throughout the 1980s and early 1990s.', 'Born in Lahore, Khan graduated from Keble College, Oxford.', 'He began his international cricket career in a 1971 Test series against England.', \"Khan played until 1992, served as the team's captain intermittently between 1982 and 1992, and won the 1992 Cricket World Cup, Pakistan's only victory in the competition.\", \"Considered one of cricket's greatest all-rounders, Khan was later inducted into the ICC Cricket Hall of Fame.\", 'Founding the Pakistan Tehreek-e-Insaf (PTI) in 1996, Khan won a seat in the National Assembly in the 2002 general election, serving as an opposition member from Mianwali until 2007.', 'PTI boycotted the 2008 general election and became the second-largest party by popular vote in the 2013 general election.', 'In the 2018 general election, running on a populist platform, PTI became the largest party in the National Assembly, and formed a coalition government with independents with Khan as prime minister.']\n"
     ]
    }
   ],
   "source": [
    "print(sentences)"
   ]
  },
  {
   "cell_type": "code",
   "execution_count": 7,
   "id": "c36966eb",
   "metadata": {},
   "outputs": [],
   "source": [
    "stemmer=PorterStemmer()"
   ]
  },
  {
   "cell_type": "code",
   "execution_count": 8,
   "id": "f306c5c6",
   "metadata": {},
   "outputs": [
    {
     "data": {
      "text/plain": [
       "'histori'"
      ]
     },
     "execution_count": 8,
     "metadata": {},
     "output_type": "execute_result"
    }
   ],
   "source": [
    "stemmer.stem('history')"
   ]
  },
  {
   "cell_type": "code",
   "execution_count": 9,
   "id": "c32faad4",
   "metadata": {},
   "outputs": [],
   "source": [
    "from nltk.stem import WordNetLemmatizer"
   ]
  },
  {
   "cell_type": "code",
   "execution_count": 10,
   "id": "4c3a95b0",
   "metadata": {},
   "outputs": [],
   "source": [
    "lemmatizer=WordNetLemmatizer()"
   ]
  },
  {
   "cell_type": "code",
   "execution_count": 11,
   "id": "ba3d454a",
   "metadata": {},
   "outputs": [
    {
     "name": "stderr",
     "output_type": "stream",
     "text": [
      "[nltk_data] Downloading package wordnet to\n",
      "[nltk_data]     C:\\Users\\irumj\\AppData\\Roaming\\nltk_data...\n",
      "[nltk_data]   Package wordnet is already up-to-date!\n"
     ]
    }
   ],
   "source": [
    "# Download the wordnet corpus\n",
    "nltk.download('wordnet')\n",
    "\n",
    "# Initialize the lemmatizer\n",
    "lemmatizer = WordNetLemmatizer()"
   ]
  },
  {
   "cell_type": "code",
   "execution_count": 29,
   "id": "254aac14",
   "metadata": {},
   "outputs": [
    {
     "data": {
      "text/plain": [
       "'History'"
      ]
     },
     "execution_count": 29,
     "metadata": {},
     "output_type": "execute_result"
    }
   ],
   "source": [
    "lemmatizer.lemmatize('History')"
   ]
  },
  {
   "cell_type": "code",
   "execution_count": 30,
   "id": "ede1f03e",
   "metadata": {},
   "outputs": [
    {
     "name": "stderr",
     "output_type": "stream",
     "text": [
      "[nltk_data] Downloading package stopwords to\n",
      "[nltk_data]     C:\\Users\\irumj\\AppData\\Roaming\\nltk_data...\n",
      "[nltk_data]   Package stopwords is already up-to-date!\n"
     ]
    },
    {
     "data": {
      "text/plain": [
       "True"
      ]
     },
     "execution_count": 30,
     "metadata": {},
     "output_type": "execute_result"
    }
   ],
   "source": [
    "nltk.download('stopwords')"
   ]
  },
  {
   "cell_type": "code",
   "execution_count": 31,
   "id": "475abfeb",
   "metadata": {},
   "outputs": [],
   "source": [
    "import re\n",
    "corpus=[]\n",
    "for i in range(len(sentences)):\n",
    "    review=re.sub('[^a-zA-Z]',' ',sentences[i])\n",
    "    review=review.lower()\n",
    "    corpus.append(review)"
   ]
  },
  {
   "cell_type": "code",
   "execution_count": 32,
   "id": "5dabbb3e",
   "metadata": {},
   "outputs": [
    {
     "data": {
      "text/plain": [
       "[' imran ahmed khan niazi  urdu                         pronounced   m a n   m d xa n n ja zi    born   october       is a pakistani politician and former cricketer who served as the   nd prime minister of pakistan from august      until april      ',\n",
       " 'he is the founder and former chairman of the political party pakistan tehreek e insaf  pti  from      to      ',\n",
       " 'he was the captain of the pakistan national cricket team throughout the     s and early     s ',\n",
       " 'born in lahore  khan graduated from keble college  oxford ',\n",
       " 'he began his international cricket career in a      test series against england ',\n",
       " 'khan played until       served as the team s captain intermittently between      and       and won the      cricket world cup  pakistan s only victory in the competition ',\n",
       " 'considered one of cricket s greatest all rounders  khan was later inducted into the icc cricket hall of fame ',\n",
       " 'founding the pakistan tehreek e insaf  pti  in       khan won a seat in the national assembly in the      general election  serving as an opposition member from mianwali until      ',\n",
       " 'pti boycotted the      general election and became the second largest party by popular vote in the      general election ',\n",
       " 'in the      general election  running on a populist platform  pti became the largest party in the national assembly  and formed a coalition government with independents with khan as prime minister ']"
      ]
     },
     "execution_count": 32,
     "metadata": {},
     "output_type": "execute_result"
    }
   ],
   "source": [
    "corpus"
   ]
  },
  {
   "cell_type": "code",
   "execution_count": 33,
   "id": "701e293e",
   "metadata": {},
   "outputs": [
    {
     "name": "stdout",
     "output_type": "stream",
     "text": [
      "imran\n",
      "ahm\n",
      "khan\n",
      "niazi\n",
      "urdu\n",
      "pronounc\n",
      "n\n",
      "xa\n",
      "n\n",
      "n\n",
      "ja\n",
      "zi\n",
      "born\n",
      "octob\n",
      "pakistani\n",
      "politician\n",
      "former\n",
      "cricket\n",
      "serv\n",
      "nd\n",
      "prime\n",
      "minist\n",
      "pakistan\n",
      "august\n",
      "april\n",
      "founder\n",
      "former\n",
      "chairman\n",
      "polit\n",
      "parti\n",
      "pakistan\n",
      "tehreek\n",
      "e\n",
      "insaf\n",
      "pti\n",
      "captain\n",
      "pakistan\n",
      "nation\n",
      "cricket\n",
      "team\n",
      "throughout\n",
      "earli\n",
      "born\n",
      "lahor\n",
      "khan\n",
      "graduat\n",
      "kebl\n",
      "colleg\n",
      "oxford\n",
      "began\n",
      "intern\n",
      "cricket\n",
      "career\n",
      "test\n",
      "seri\n",
      "england\n",
      "khan\n",
      "play\n",
      "serv\n",
      "team\n",
      "captain\n",
      "intermitt\n",
      "cricket\n",
      "world\n",
      "cup\n",
      "pakistan\n",
      "victori\n",
      "competit\n",
      "consid\n",
      "one\n",
      "cricket\n",
      "greatest\n",
      "rounder\n",
      "khan\n",
      "later\n",
      "induct\n",
      "icc\n",
      "cricket\n",
      "hall\n",
      "fame\n",
      "found\n",
      "pakistan\n",
      "tehreek\n",
      "e\n",
      "insaf\n",
      "pti\n",
      "khan\n",
      "seat\n",
      "nation\n",
      "assembl\n",
      "gener\n",
      "elect\n",
      "serv\n",
      "opposit\n",
      "member\n",
      "mianwali\n",
      "pti\n",
      "boycot\n",
      "gener\n",
      "elect\n",
      "becam\n",
      "second\n",
      "largest\n",
      "parti\n",
      "popular\n",
      "vote\n",
      "gener\n",
      "elect\n",
      "gener\n",
      "elect\n",
      "run\n",
      "populist\n",
      "platform\n",
      "pti\n",
      "becam\n",
      "largest\n",
      "parti\n",
      "nation\n",
      "assembl\n",
      "form\n",
      "coalit\n",
      "govern\n",
      "independ\n",
      "khan\n",
      "prime\n",
      "minist\n"
     ]
    }
   ],
   "source": [
    "##Stemming\n",
    "for i in corpus:\n",
    "    words=nltk.word_tokenize(i)\n",
    "    for word in words:\n",
    "        if word not in set(stopwords.words('english')):\n",
    "            print(stemmer.stem(word))"
   ]
  },
  {
   "cell_type": "code",
   "execution_count": 34,
   "id": "30529e4d",
   "metadata": {},
   "outputs": [
    {
     "name": "stdout",
     "output_type": "stream",
     "text": [
      "imran\n",
      "ahmed\n",
      "khan\n",
      "niazi\n",
      "urdu\n",
      "pronounced\n",
      "n\n",
      "xa\n",
      "n\n",
      "n\n",
      "ja\n",
      "zi\n",
      "born\n",
      "october\n",
      "pakistani\n",
      "politician\n",
      "former\n",
      "cricketer\n",
      "served\n",
      "nd\n",
      "prime\n",
      "minister\n",
      "pakistan\n",
      "august\n",
      "april\n",
      "founder\n",
      "former\n",
      "chairman\n",
      "political\n",
      "party\n",
      "pakistan\n",
      "tehreek\n",
      "e\n",
      "insaf\n",
      "pti\n",
      "captain\n",
      "pakistan\n",
      "national\n",
      "cricket\n",
      "team\n",
      "throughout\n",
      "early\n",
      "born\n",
      "lahore\n",
      "khan\n",
      "graduated\n",
      "keble\n",
      "college\n",
      "oxford\n",
      "began\n",
      "international\n",
      "cricket\n",
      "career\n",
      "test\n",
      "series\n",
      "england\n",
      "khan\n",
      "played\n",
      "served\n",
      "team\n",
      "captain\n",
      "intermittently\n",
      "cricket\n",
      "world\n",
      "cup\n",
      "pakistan\n",
      "victory\n",
      "competition\n",
      "considered\n",
      "one\n",
      "cricket\n",
      "greatest\n",
      "rounder\n",
      "khan\n",
      "later\n",
      "inducted\n",
      "icc\n",
      "cricket\n",
      "hall\n",
      "fame\n",
      "founding\n",
      "pakistan\n",
      "tehreek\n",
      "e\n",
      "insaf\n",
      "pti\n",
      "khan\n",
      "seat\n",
      "national\n",
      "assembly\n",
      "general\n",
      "election\n",
      "serving\n",
      "opposition\n",
      "member\n",
      "mianwali\n",
      "pti\n",
      "boycotted\n",
      "general\n",
      "election\n",
      "became\n",
      "second\n",
      "largest\n",
      "party\n",
      "popular\n",
      "vote\n",
      "general\n",
      "election\n",
      "general\n",
      "election\n",
      "running\n",
      "populist\n",
      "platform\n",
      "pti\n",
      "became\n",
      "largest\n",
      "party\n",
      "national\n",
      "assembly\n",
      "formed\n",
      "coalition\n",
      "government\n",
      "independent\n",
      "khan\n",
      "prime\n",
      "minister\n"
     ]
    }
   ],
   "source": [
    "##Lemmatization\n",
    "for i in corpus:\n",
    "    words=nltk.word_tokenize(i)\n",
    "    for word in words:\n",
    "        if word not in set(stopwords.words('english')):\n",
    "            print(lemmatizer.lemmatize(word))"
   ]
  },
  {
   "cell_type": "code",
   "execution_count": 35,
   "id": "be27aeeb",
   "metadata": {},
   "outputs": [],
   "source": [
    "##Apply StopWords. Lemmatize\n",
    "import re\n",
    "corpus=[]\n",
    "for i in range(len(sentences)):\n",
    "    review=re.sub('[^a-zA-Z]',' ',sentences[i])\n",
    "    review=review.lower()\n",
    "    review=review.split()\n",
    "    review=[lemmatizer.lemmatize(word) for word in review if not word in set(stopwords.words('english'))]\n",
    "    review=' '.join(review)   \n",
    "    corpus.append(review)\n",
    "    "
   ]
  },
  {
   "cell_type": "code",
   "execution_count": 36,
   "id": "fcecfe71",
   "metadata": {},
   "outputs": [],
   "source": [
    "#Bag Of Words\n",
    "#from sklearn.feature_extraction.text import CountVectorizer\n",
    "#cv=CountVectorizer()"
   ]
  },
  {
   "cell_type": "code",
   "execution_count": 42,
   "id": "dab71f87",
   "metadata": {},
   "outputs": [],
   "source": [
    "#Bag Of Words for trigrrram\n",
    "from sklearn.feature_extraction.text import CountVectorizer\n",
    "cv=CountVectorizer(binary=True,ngram_range=(3,3))\n"
   ]
  },
  {
   "cell_type": "code",
   "execution_count": 38,
   "id": "05ec00d6",
   "metadata": {},
   "outputs": [],
   "source": [
    "X=cv.fit_transform(corpus)"
   ]
  },
  {
   "cell_type": "code",
   "execution_count": 39,
   "id": "81280ce2",
   "metadata": {},
   "outputs": [
    {
     "data": {
      "text/plain": [
       "{'imran ahmed khan': 37,\n",
       " 'ahmed khan niazi': 0,\n",
       " 'khan niazi urdu': 47,\n",
       " 'niazi urdu pronounced': 60,\n",
       " 'urdu pronounced xa': 94,\n",
       " 'pronounced xa ja': 79,\n",
       " 'xa ja zi': 97,\n",
       " 'ja zi born': 43,\n",
       " 'zi born october': 98,\n",
       " 'born october pakistani': 7,\n",
       " 'october pakistani politician': 61,\n",
       " 'pakistani politician former': 68,\n",
       " 'politician former cricketer': 75,\n",
       " 'former cricketer served': 27,\n",
       " 'cricketer served nd': 20,\n",
       " 'served nd prime': 87,\n",
       " 'nd prime minister': 59,\n",
       " 'prime minister pakistan': 78,\n",
       " 'minister pakistan august': 55,\n",
       " 'pakistan august april': 64,\n",
       " 'founder former chairman': 28,\n",
       " 'former chairman political': 26,\n",
       " 'chairman political party': 12,\n",
       " 'political party pakistan': 74,\n",
       " 'party pakistan tehreek': 70,\n",
       " 'pakistan tehreek insaf': 66,\n",
       " 'tehreek insaf pti': 92,\n",
       " 'captain pakistan national': 10,\n",
       " 'pakistan national cricket': 65,\n",
       " 'national cricket team': 58,\n",
       " 'cricket team throughout': 18,\n",
       " 'team throughout early': 91,\n",
       " 'born lahore khan': 6,\n",
       " 'lahore khan graduated': 51,\n",
       " 'khan graduated keble': 45,\n",
       " 'graduated keble college': 34,\n",
       " 'keble college oxford': 44,\n",
       " 'began international cricket': 5,\n",
       " 'international cricket career': 42,\n",
       " 'cricket career test': 15,\n",
       " 'career test series': 11,\n",
       " 'test series england': 93,\n",
       " 'khan played served': 48,\n",
       " 'played served team': 73,\n",
       " 'served team captain': 88,\n",
       " 'team captain intermittently': 90,\n",
       " 'captain intermittently cricket': 9,\n",
       " 'intermittently cricket world': 41,\n",
       " 'cricket world cup': 19,\n",
       " 'world cup pakistan': 96,\n",
       " 'cup pakistan victory': 21,\n",
       " 'pakistan victory competition': 67,\n",
       " 'considered one cricket': 14,\n",
       " 'one cricket greatest': 62,\n",
       " 'cricket greatest rounder': 16,\n",
       " 'greatest rounder khan': 35,\n",
       " 'rounder khan later': 83,\n",
       " 'khan later inducted': 46,\n",
       " 'later inducted icc': 54,\n",
       " 'inducted icc cricket': 39,\n",
       " 'icc cricket hall': 36,\n",
       " 'cricket hall fame': 17,\n",
       " 'founding pakistan tehreek': 29,\n",
       " 'insaf pti khan': 40,\n",
       " 'pti khan seat': 82,\n",
       " 'khan seat national': 50,\n",
       " 'seat national assembly': 85,\n",
       " 'national assembly general': 57,\n",
       " 'assembly general election': 2,\n",
       " 'general election serving': 32,\n",
       " 'election serving opposition': 24,\n",
       " 'serving opposition member': 89,\n",
       " 'opposition member mianwali': 63,\n",
       " 'pti boycotted general': 81,\n",
       " 'boycotted general election': 8,\n",
       " 'general election became': 30,\n",
       " 'election became second': 22,\n",
       " 'became second largest': 4,\n",
       " 'second largest party': 86,\n",
       " 'largest party popular': 53,\n",
       " 'party popular vote': 71,\n",
       " 'popular vote general': 76,\n",
       " 'vote general election': 95,\n",
       " 'general election running': 31,\n",
       " 'election running populist': 23,\n",
       " 'running populist platform': 84,\n",
       " 'populist platform pti': 77,\n",
       " 'platform pti became': 72,\n",
       " 'pti became largest': 80,\n",
       " 'became largest party': 3,\n",
       " 'largest party national': 52,\n",
       " 'party national assembly': 69,\n",
       " 'national assembly formed': 56,\n",
       " 'assembly formed coalition': 1,\n",
       " 'formed coalition government': 25,\n",
       " 'coalition government independent': 13,\n",
       " 'government independent khan': 33,\n",
       " 'independent khan prime': 38,\n",
       " 'khan prime minister': 49}"
      ]
     },
     "execution_count": 39,
     "metadata": {},
     "output_type": "execute_result"
    }
   ],
   "source": [
    "cv.vocabulary_"
   ]
  },
  {
   "cell_type": "code",
   "execution_count": 40,
   "id": "0cfe33c5",
   "metadata": {},
   "outputs": [
    {
     "data": {
      "text/plain": [
       "'imran ahmed khan niazi urdu pronounced n xa n n ja zi born october pakistani politician former cricketer served nd prime minister pakistan august april'"
      ]
     },
     "execution_count": 40,
     "metadata": {},
     "output_type": "execute_result"
    }
   ],
   "source": [
    "corpus[0]"
   ]
  },
  {
   "cell_type": "code",
   "execution_count": 41,
   "id": "655c6c22",
   "metadata": {},
   "outputs": [
    {
     "data": {
      "text/plain": [
       "array([[1, 0, 0, 0, 0, 0, 0, 1, 0, 0, 0, 0, 0, 0, 0, 0, 0, 0, 0, 0, 1, 0,\n",
       "        0, 0, 0, 0, 0, 1, 0, 0, 0, 0, 0, 0, 0, 0, 0, 1, 0, 0, 0, 0, 0, 1,\n",
       "        0, 0, 0, 1, 0, 0, 0, 0, 0, 0, 0, 1, 0, 0, 0, 1, 1, 1, 0, 0, 1, 0,\n",
       "        0, 0, 1, 0, 0, 0, 0, 0, 0, 1, 0, 0, 1, 1, 0, 0, 0, 0, 0, 0, 0, 1,\n",
       "        0, 0, 0, 0, 0, 0, 1, 0, 0, 1, 1]], dtype=int64)"
      ]
     },
     "execution_count": 41,
     "metadata": {},
     "output_type": "execute_result"
    }
   ],
   "source": [
    "X[0].toarray()"
   ]
  },
  {
   "cell_type": "code",
   "execution_count": 43,
   "id": "55a5f42c",
   "metadata": {},
   "outputs": [],
   "source": [
    "#TF-IDF\n",
    "from sklearn.feature_extraction.text import TfidfVectorizer\n",
    "cv=TfidfVectorizer() # can also apply ngram(3,3)\n",
    "X=cv.fit_transform(corpus)"
   ]
  },
  {
   "cell_type": "code",
   "execution_count": 44,
   "id": "bb3e986b",
   "metadata": {},
   "outputs": [
    {
     "data": {
      "text/plain": [
       "'imran ahmed khan niazi urdu pronounced n xa n n ja zi born october pakistani politician former cricketer served nd prime minister pakistan august april'"
      ]
     },
     "execution_count": 44,
     "metadata": {},
     "output_type": "execute_result"
    }
   ],
   "source": [
    "corpus[0]"
   ]
  },
  {
   "cell_type": "code",
   "execution_count": 45,
   "id": "24ebab44",
   "metadata": {},
   "outputs": [
    {
     "data": {
      "text/plain": [
       "array([[0.22789698, 0.22789698, 0.        , 0.22789698, 0.        ,\n",
       "        0.        , 0.19373325, 0.        , 0.        , 0.        ,\n",
       "        0.        , 0.        , 0.        , 0.        , 0.        ,\n",
       "        0.        , 0.22789698, 0.        , 0.        , 0.        ,\n",
       "        0.        , 0.        , 0.        , 0.19373325, 0.        ,\n",
       "        0.        , 0.        , 0.        , 0.        , 0.        ,\n",
       "        0.        , 0.        , 0.22789698, 0.        , 0.        ,\n",
       "        0.        , 0.        , 0.        , 0.22789698, 0.        ,\n",
       "        0.12234153, 0.        , 0.        , 0.        , 0.        ,\n",
       "        0.        , 0.19373325, 0.        , 0.22789698, 0.22789698,\n",
       "        0.22789698, 0.        , 0.        , 0.        , 0.13532998,\n",
       "        0.22789698, 0.        , 0.        , 0.        , 0.        ,\n",
       "        0.22789698, 0.        , 0.        , 0.19373325, 0.22789698,\n",
       "        0.        , 0.        , 0.        , 0.        , 0.        ,\n",
       "        0.        , 0.19373325, 0.        , 0.        , 0.        ,\n",
       "        0.        , 0.        , 0.22789698, 0.        , 0.        ,\n",
       "        0.        , 0.22789698, 0.22789698]])"
      ]
     },
     "execution_count": 45,
     "metadata": {},
     "output_type": "execute_result"
    }
   ],
   "source": [
    "X[0].toarray()"
   ]
  },
  {
   "cell_type": "code",
   "execution_count": null,
   "id": "dc2b021f",
   "metadata": {},
   "outputs": [],
   "source": []
  }
 ],
 "metadata": {
  "kernelspec": {
   "display_name": "Python 3 (ipykernel)",
   "language": "python",
   "name": "python3"
  },
  "language_info": {
   "codemirror_mode": {
    "name": "ipython",
    "version": 3
   },
   "file_extension": ".py",
   "mimetype": "text/x-python",
   "name": "python",
   "nbconvert_exporter": "python",
   "pygments_lexer": "ipython3",
   "version": "3.11.5"
  }
 },
 "nbformat": 4,
 "nbformat_minor": 5
}

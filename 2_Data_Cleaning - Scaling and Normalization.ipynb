{
 "cells": [
  {
   "cell_type": "markdown",
   "id": "3a500b3b",
   "metadata": {
    "papermill": {
     "duration": 0.003885,
     "end_time": "2023-04-20T18:08:50.676498",
     "exception": false,
     "start_time": "2023-04-20T18:08:50.672613",
     "status": "completed"
    },
    "tags": []
   },
   "source": [
    "In this notebook, we're going to be looking at how to scale and normalize data (and what the difference is between the two!). \n",
    "\n",
    "Let's get started!"
   ]
  },
  {
   "cell_type": "markdown",
   "id": "3dc62c25",
   "metadata": {
    "papermill": {
     "duration": 0.002433,
     "end_time": "2023-04-20T18:08:50.681987",
     "exception": false,
     "start_time": "2023-04-20T18:08:50.679554",
     "status": "completed"
    },
    "tags": []
   },
   "source": [
    "# Get our environment set up\n",
    "\n",
    "The first thing we'll need to do is load in the libraries we'll be using. "
   ]
  },
  {
   "cell_type": "code",
   "execution_count": 2,
   "id": "2f632dd7",
   "metadata": {
    "execution": {
     "iopub.execute_input": "2023-04-20T18:08:50.689460Z",
     "iopub.status.busy": "2023-04-20T18:08:50.689008Z",
     "iopub.status.idle": "2023-04-20T18:08:52.100812Z",
     "shell.execute_reply": "2023-04-20T18:08:52.099400Z"
    },
    "papermill": {
     "duration": 1.419304,
     "end_time": "2023-04-20T18:08:52.103956",
     "exception": false,
     "start_time": "2023-04-20T18:08:50.684652",
     "status": "completed"
    },
    "tags": []
   },
   "outputs": [],
   "source": [
    "# modules we'll use\n",
    "import pandas as pd\n",
    "import numpy as np\n",
    "\n",
    "# for Box-Cox Transformation\n",
    "from scipy import stats\n",
    "\n",
    "# for min_max scaling\n",
    "from mlxtend.preprocessing import minmax_scaling\n",
    "# pip install mlxtend\n",
    "\n",
    "# plotting modules\n",
    "import seaborn as sns\n",
    "import matplotlib.pyplot as plt"
   ]
  },
  {
   "cell_type": "markdown",
   "id": "2f22ee2c",
   "metadata": {
    "papermill": {
     "duration": 0.002543,
     "end_time": "2023-04-20T18:08:52.109678",
     "exception": false,
     "start_time": "2023-04-20T18:08:52.107135",
     "status": "completed"
    },
    "tags": []
   },
   "source": [
    "# Scaling vs. Normalization: What's the difference?\n",
    "\n",
    "One of the reasons that it's easy to get confused between scaling and normalization is because the terms are sometimes used interchangeably and, to make it even more confusing, they are very similar! In both cases, you're transforming the values of numeric variables so that the transformed data points have specific helpful properties. The difference is that:\n",
    "- in **scaling**, you're changing the *range* of your data, while \n",
    "- in **normalization**, you're changing the *shape of the distribution* of your data. \n",
    "\n",
    "Let's talk a little more in-depth about each of these options. \n",
    "\n",
    "# Scaling\n",
    "\n",
    "This means that you're transforming your data so that it fits within a specific scale, like 0-100 or 0-1.  \n",
    "\n",
    "For example, you might be looking at the prices of some products in both Yen and US Dollars. One US Dollar is worth about 100 Yen, but if you don't scale your prices, machine learning methods will consider a difference in price of 1 Yen as important as a difference of 1 US Dollar! This clearly doesn't fit with our intuitions of the world. With currency, you can convert between currencies. But what about if you're looking at something like height and weight? It's not entirely clear how many pounds should equal one inch (or how many kilograms should equal one meter).\n",
    "\n",
    "By scaling your variables, you can help compare different variables on equal footing. To help solidify what scaling looks like, let's look at a made-up example. "
   ]
  },
  {
   "cell_type": "code",
   "execution_count": 3,
   "id": "b764ffa6",
   "metadata": {},
   "outputs": [
    {
     "data": {
      "image/png": "[encoded data removed]",
      "text/plain": [
       "<Figure size 1008x288 with 1 Axes>"
      ]
     },
     "metadata": {
      "needs_background": "light"
     },
     "output_type": "display_data"
    }
   ],
   "source": [
    "# generate 1000 data points randomly drawn from an exponential distribution\n",
    "original_data = np.random.exponential(size=1000)\n",
    "\n",
    "# plot to visualize\n",
    "plt.figure(figsize=(14,4))\n",
    "sns.histplot(original_data, legend=False)\n",
    "plt.title(\"Original Data\")\n",
    "plt.show()"
   ]
  },
  {
   "cell_type": "code",
   "execution_count": 6,
   "id": "70978d3f",
   "metadata": {
    "execution": {
     "iopub.execute_input": "2023-04-20T18:08:52.117685Z",
     "iopub.status.busy": "2023-04-20T18:08:52.116652Z",
     "iopub.status.idle": "2023-04-20T18:08:52.706867Z",
     "shell.execute_reply": "2023-04-20T18:08:52.705588Z"
    },
    "papermill": {
     "duration": 0.597507,
     "end_time": "2023-04-20T18:08:52.709941",
     "exception": false,
     "start_time": "2023-04-20T18:08:52.112434",
     "status": "completed"
    },
    "tags": []
   },
   "outputs": [
    {
     "data": {
      "image/png": "[encoded data removed]",
      "text/plain": [
       "<Figure size 1008x288 with 1 Axes>"
      ]
     },
     "metadata": {
      "needs_background": "light"
     },
     "output_type": "display_data"
    }
   ],
   "source": [
    "# mix-max scale the data between 0 and 1\n",
    "scaled_data = minmax_scaling(original_data, columns=[0])\n",
    "\n",
    "# plot both together to compare\n",
    "plt.figure(figsize=(14,4))\n",
    "sns.histplot(scaled_data, legend=False, kde=True)\n",
    "plt.title(\"Scaled data\")\n",
    "plt.show()"
   ]
  },
  {
   "cell_type": "markdown",
   "id": "75d5e243",
   "metadata": {
    "papermill": {
     "duration": 0.003401,
     "end_time": "2023-04-20T18:08:52.717588",
     "exception": false,
     "start_time": "2023-04-20T18:08:52.714187",
     "status": "completed"
    },
    "tags": []
   },
   "source": [
    "Notice that the *shape* of the data doesn't change, but that instead of ranging from 0 to 8ish, it now ranges from 0 to 1.\n",
    "\n",
    "# Normalization\n",
    "\n",
    "Scaling just changes the range of your data. Normalization is a more radical transformation. The point of normalization is to change your observations so that they can be described as a normal distribution.\n",
    "\n",
    "> **[Normal distribution:](https://en.wikipedia.org/wiki/Normal_distribution)** Also known as the \"bell curve\", this is a specific statistical distribution where a roughly equal observations fall above and below the mean, the mean and the median are the same, and there are more observations closer to the mean. The normal distribution is also known as the Gaussian distribution.\n",
    "\n",
    "In general, you'll normalize your data if you're going to be using a machine learning or statistics technique that assumes your data is normally distributed. \n",
    "\n",
    "The method we're using to normalize here is called the [Box-Cox Transformation](https://en.wikipedia.org/wiki/Power_transform#Box%E2%80%93Cox_transformation). Let's take a quick peek at what normalizing some data looks like:"
   ]
  },
  {
   "cell_type": "code",
   "execution_count": 7,
   "id": "c43d575a",
   "metadata": {
    "execution": {
     "iopub.execute_input": "2023-04-20T18:08:52.727253Z",
     "iopub.status.busy": "2023-04-20T18:08:52.726166Z",
     "iopub.status.idle": "2023-04-20T18:08:53.220031Z",
     "shell.execute_reply": "2023-04-20T18:08:53.218606Z"
    },
    "papermill": {
     "duration": 0.501765,
     "end_time": "2023-04-20T18:08:53.222915",
     "exception": false,
     "start_time": "2023-04-20T18:08:52.721150",
     "status": "completed"
    },
    "scrolled": true,
    "tags": []
   },
   "outputs": [
    {
     "data": {
      "image/png": "[encoded data removed]",
      "text/plain": [
       "<Figure size 1008x288 with 1 Axes>"
      ]
     },
     "metadata": {
      "needs_background": "light"
     },
     "output_type": "display_data"
    }
   ],
   "source": [
    "# normalize the exponential data with boxcox\n",
    "normalized_data = stats.boxcox(original_data)\n",
    "\n",
    "# plot both together to compare\n",
    "plt.figure(figsize=(14,4))\n",
    "sns.histplot(normalized_data, legend=False, kde=True)\n",
    "plt.title(\"Normalized data\")\n",
    "plt.show()"
   ]
  },
  {
   "cell_type": "markdown",
   "id": "1aeb994a",
   "metadata": {
    "papermill": {
     "duration": 0.003979,
     "end_time": "2023-04-20T18:08:53.231248",
     "exception": false,
     "start_time": "2023-04-20T18:08:53.227269",
     "status": "completed"
    },
    "tags": []
   },
   "source": [
    "Notice that the *shape* of our data has changed. Before normalizing it was almost L-shaped. But after normalizing it looks more like the outline of a bell (hence \"bell curve\"). \n",
    "\n",
    "# Your turn\n",
    "\n",
    "It's time to apply what you just learned. Check the whatsapp group for exercise."
   ]
  },
  {
   "cell_type": "code",
   "execution_count": null,
   "id": "a49a1523",
   "metadata": {},
   "outputs": [],
   "source": []
  },
  {
   "cell_type": "code",
   "execution_count": null,
   "id": "7ff4e4c1",
   "metadata": {},
   "outputs": [],
   "source": []
  }
 ],
 "metadata": {
  "kernelspec": {
   "display_name": "Python 3 (ipykernel)",
   "language": "python",
   "name": "python3"
  },
  "language_info": {
   "codemirror_mode": {
    "name": "ipython",
    "version": 3
   },
   "file_extension": ".py",
   "mimetype": "text/x-python",
   "name": "python",
   "nbconvert_exporter": "python",
   "pygments_lexer": "ipython3",
   "version": "3.10.9"
  },
  "papermill": {
   "default_parameters": {},
   "duration": 14.258893,
   "end_time": "2023-04-20T18:08:54.067558",
   "environment_variables": {},
   "exception": null,
   "input_path": "__notebook__.ipynb",
   "output_path": "__notebook__.ipynb",
   "parameters": {},
   "start_time": "2023-04-20T18:08:39.808665",
   "version": "2.4.0"
  }
 },
 "nbformat": 4,
 "nbformat_minor": 5
}

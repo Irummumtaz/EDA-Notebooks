{
 "cells": [
  {
   "cell_type": "code",
   "execution_count": 2,
   "id": "d5e3ee13",
   "metadata": {},
   "outputs": [],
   "source": [
    "import pandas as pd"
   ]
  },
  {
   "cell_type": "code",
   "execution_count": 3,
   "id": "dcfe6cc8",
   "metadata": {},
   "outputs": [],
   "source": [
    "df = pd.read_csv('covid.csv')"
   ]
  },
  {
   "cell_type": "code",
   "execution_count": 4,
   "id": "64e58eba",
   "metadata": {},
   "outputs": [
    {
     "data": {
      "text/plain": [
       "Index(['Rank', 'NCT Number', 'Title', 'Acronym', 'Status', 'Study Results',\n",
       "       'Conditions', 'Interventions', 'Outcome Measures',\n",
       "       'Sponsor/Collaborators', 'Gender', 'Age', 'Phases', 'Enrollment',\n",
       "       'Funded Bys', 'Study Type', 'Study Designs', 'Other IDs', 'Start Date',\n",
       "       'Primary Completion Date', 'Completion Date', 'First Posted',\n",
       "       'Results First Posted', 'Last Update Posted', 'Locations',\n",
       "       'Study Documents', 'URL'],\n",
       "      dtype='object')"
      ]
     },
     "execution_count": 4,
     "metadata": {},
     "output_type": "execute_result"
    }
   ],
   "source": [
    "df.columns"
   ]
  },
  {
   "cell_type": "code",
   "execution_count": 5,
   "id": "5fcb2131",
   "metadata": {
    "scrolled": true
   },
   "outputs": [
    {
     "data": {
      "text/plain": [
       "Rank                         int64\n",
       "NCT Number                  object\n",
       "Title                       object\n",
       "Acronym                     object\n",
       "Status                      object\n",
       "Study Results               object\n",
       "Conditions                  object\n",
       "Interventions               object\n",
       "Outcome Measures            object\n",
       "Sponsor/Collaborators       object\n",
       "Gender                      object\n",
       "Age                         object\n",
       "Phases                      object\n",
       "Enrollment                 float64\n",
       "Funded Bys                  object\n",
       "Study Type                  object\n",
       "Study Designs               object\n",
       "Other IDs                   object\n",
       "Start Date                  object\n",
       "Primary Completion Date     object\n",
       "Completion Date             object\n",
       "First Posted                object\n",
       "Results First Posted        object\n",
       "Last Update Posted          object\n",
       "Locations                   object\n",
       "Study Documents             object\n",
       "URL                         object\n",
       "dtype: object"
      ]
     },
     "execution_count": 5,
     "metadata": {},
     "output_type": "execute_result"
    }
   ],
   "source": [
    "df.dtypes"
   ]
  },
  {
   "cell_type": "code",
   "execution_count": 6,
   "id": "ef3cf528",
   "metadata": {},
   "outputs": [
    {
     "data": {
      "text/plain": [
       "(5783, 27)"
      ]
     },
     "execution_count": 6,
     "metadata": {},
     "output_type": "execute_result"
    }
   ],
   "source": [
    "df.shape"
   ]
  },
  {
   "cell_type": "code",
   "execution_count": 7,
   "id": "1d385dc8",
   "metadata": {
    "scrolled": true
   },
   "outputs": [
    {
     "data": {
      "text/plain": [
       "Conditions                                     \n",
       "COVID-19                                           720\n",
       "Covid19                                            657\n",
       "COVID                                               95\n",
       "Covid-19                                            88\n",
       "SARS-CoV-2                                          52\n",
       "Coronavirus Infection                               51\n",
       "Coronavirus                                         47\n",
       "COVID 19                                            46\n",
       "COVID19                                             45\n",
       "Corona Virus Infection                              38\n",
       "Sars-CoV2                                           33\n",
       "SARS-CoV-2 Infection                                31\n",
       "COVID-19 Pneumonia                                  30\n",
       "COVID-19 Infection                                  27\n",
       "SARS-CoV Infection                                  25\n",
       "Covid19|SARS-CoV Infection                          23\n",
       "SARS-CoV 2                                          21\n",
       "COVID-19|SARS-CoV-2                                 20\n",
       "Coronavirus Infections                              18\n",
       "Healthy                                             18\n",
       "Coronavirus Disease 2019                            16\n",
       "COVID-19|SARS-CoV 2                                 15\n",
       "Coronavirus Disease (COVID-19)                      15\n",
       "Cancer                                              13\n",
       "Coronavirus Disease 2019 (COVID-19)                 13\n",
       "Severe Acute Respiratory Syndrome Coronavirus 2     12\n",
       "SARS-CoV-2|COVID-19                                 12\n",
       "Acute Respiratory Distress Syndrome                 10\n",
       "COVID-19|SARS-CoV-2 Infection                        9\n",
       "Covid 19                                             9\n",
       "SARS-CoV Infection|Covid19                           9\n",
       "SARS-CoV-2 Infection|COVID-19                        8\n",
       "Chronic Pain                                         8\n",
       "SARS-CoV 2|COVID-19                                  8\n",
       "Covid19|Pneumonia, Viral                             7\n",
       "Pneumonia, Viral                                     7\n",
       "COVID-19 Disease                                     7\n",
       "2019-nCoV                                            7\n",
       "Infection Viral                                      7\n",
       "Bioequivalence                                       7\n",
       "Covid19|ARDS                                         7\n",
       "Stress                                               7\n",
       "Multiple Sclerosis                                   7\n",
       "Acute Respiratory Distress Syndrome|COVID-19         7\n",
       "COVID-19|Sars-CoV2                                   7\n",
       "SARS-CoV2                                            6\n",
       "Respiratory Distress Syndrome, Adult                 6\n",
       "covid19                                              6\n",
       "COVID|SARS-CoV 2                                     6\n",
       "Heart Failure                                        6\n",
       "Name: count, dtype: int64"
      ]
     },
     "execution_count": 7,
     "metadata": {},
     "output_type": "execute_result"
    }
   ],
   "source": [
    "df_con = df[['Conditions']].value_counts()\n",
    "df_con.head(50)"
   ]
  },
  {
   "cell_type": "code",
   "execution_count": 8,
   "id": "1b426203",
   "metadata": {},
   "outputs": [
    {
     "data": {
      "text/plain": [
       "Conditions                                       \n",
       "covid-19                                             809\n",
       "covid19                                              708\n",
       "covid                                                 95\n",
       "covid 19                                              55\n",
       "sars-cov-2                                            53\n",
       "                                                    ... \n",
       "covid19|ards|hypoxia|cytokine storm                    1\n",
       "covid19|ards|pneumonia, viral                          1\n",
       "covid19|ards|pneumonia, viral|computed tomography      1\n",
       "covid19|ards|respiratory failure                       1\n",
       "yoga                                                   1\n",
       "Name: count, Length: 3001, dtype: int64"
      ]
     },
     "execution_count": 8,
     "metadata": {},
     "output_type": "execute_result"
    }
   ],
   "source": [
    "df['Conditions'] = df['Conditions'].str.lower()\n",
    "df[['Conditions']].value_counts()"
   ]
  },
  {
   "cell_type": "code",
   "execution_count": 9,
   "id": "3d45f977",
   "metadata": {},
   "outputs": [
    {
     "data": {
      "text/plain": [
       "Conditions                \n",
       "covid19                       1517\n",
       "covid                           95\n",
       "sarscov2                        94\n",
       "covid 19                        55\n",
       "coronavirus infection           51\n",
       "coronavirus                     47\n",
       "covid19|sarscov2                43\n",
       "covid19 pneumonia               41\n",
       "corona virus infection          38\n",
       "sarscov2 infection              35\n",
       "sarscov2|covid19                34\n",
       "covid19 infection               30\n",
       "sarscov infection               25\n",
       "covid19|sarscov infection       25\n",
       "sarscov 2                       21\n",
       "coronavirus infections          19\n",
       "healthy                         18\n",
       "covid19|sarscov2 infection      17\n",
       "coronavirus disease 2019        16\n",
       "covid19|sarscov 2               16\n",
       "Name: count, dtype: int64"
      ]
     },
     "execution_count": 9,
     "metadata": {},
     "output_type": "execute_result"
    }
   ],
   "source": [
    "df['Conditions']=df['Conditions'].str.replace(\"-\",\"\")\n",
    "df[['Conditions']].value_counts().head(20)"
   ]
  },
  {
   "cell_type": "code",
   "execution_count": 10,
   "id": "b24070d1",
   "metadata": {},
   "outputs": [
    {
     "data": {
      "text/plain": [
       "Conditions                                        \n",
       "covid19                                               1517\n",
       "covid                                                   95\n",
       "sarscov2                                                94\n",
       "covid 19                                                55\n",
       "coronavirus infection                                   51\n",
       "                                                      ... \n",
       "covid19|immunodeficiency|old age; debility               1\n",
       "covid19|infection viral|ct scan                          1\n",
       "covid19|infectious disease                               1\n",
       "covid19|infectious disease|death|sarscov infection       1\n",
       "yoga                                                     1\n",
       "Name: count, Length: 2930, dtype: int64"
      ]
     },
     "execution_count": 10,
     "metadata": {},
     "output_type": "execute_result"
    }
   ],
   "source": [
    "df['Conditions']=df['Conditions'].str.replace(\"sarscov2,viral\",\"sarscov2\",case=False)\n",
    "df[['Conditions']].value_counts()"
   ]
  },
  {
   "cell_type": "code",
   "execution_count": 17,
   "id": "5ebac3cd",
   "metadata": {},
   "outputs": [],
   "source": [
    "df['Conditions'] = df['Conditions'].str.replace(\"COVID 19 \",\"COVID-19\")"
   ]
  },
  {
   "cell_type": "code",
   "execution_count": 18,
   "id": "8f012667",
   "metadata": {},
   "outputs": [
    {
     "data": {
      "text/plain": [
       "Status\n",
       "Recruiting                   2805\n",
       "Completed                    1025\n",
       "Not yet recruiting           1004\n",
       "Active, not recruiting        526\n",
       "Enrolling by invitation       181\n",
       "Withdrawn                     107\n",
       "Terminated                     74\n",
       "Suspended                      27\n",
       "Available                      19\n",
       "No longer available            12\n",
       "Approved for marketing          2\n",
       "Temporarily not available       1\n",
       "Name: count, dtype: int64"
      ]
     },
     "execution_count": 18,
     "metadata": {},
     "output_type": "execute_result"
    }
   ],
   "source": [
    "df['Status'].value_counts()"
   ]
  },
  {
   "cell_type": "code",
   "execution_count": 19,
   "id": "c8a41664",
   "metadata": {},
   "outputs": [
    {
     "data": {
      "text/html": [
       "<div>\n",
       "<style scoped>\n",
       "    .dataframe tbody tr th:only-of-type {\n",
       "        vertical-align: middle;\n",
       "    }\n",
       "\n",
       "    .dataframe tbody tr th {\n",
       "        vertical-align: top;\n",
       "    }\n",
       "\n",
       "    .dataframe thead th {\n",
       "        text-align: right;\n",
       "    }\n",
       "</style>\n",
       "<table border=\"1\" class=\"dataframe\">\n",
       "  <thead>\n",
       "    <tr style=\"text-align: right;\">\n",
       "      <th></th>\n",
       "      <th>Status</th>\n",
       "      <th>Enrollment</th>\n",
       "    </tr>\n",
       "  </thead>\n",
       "  <tbody>\n",
       "    <tr>\n",
       "      <th>1</th>\n",
       "      <td>Not yet recruiting</td>\n",
       "      <td>60.0</td>\n",
       "    </tr>\n",
       "    <tr>\n",
       "      <th>2</th>\n",
       "      <td>Recruiting</td>\n",
       "      <td>500.0</td>\n",
       "    </tr>\n",
       "    <tr>\n",
       "      <th>3</th>\n",
       "      <td>Active, not recruiting</td>\n",
       "      <td>2500.0</td>\n",
       "    </tr>\n",
       "    <tr>\n",
       "      <th>4</th>\n",
       "      <td>Recruiting</td>\n",
       "      <td>50.0</td>\n",
       "    </tr>\n",
       "    <tr>\n",
       "      <th>5</th>\n",
       "      <td>Enrolling by invitation</td>\n",
       "      <td>10.0</td>\n",
       "    </tr>\n",
       "  </tbody>\n",
       "</table>\n",
       "</div>"
      ],
      "text/plain": [
       "                    Status  Enrollment\n",
       "1       Not yet recruiting        60.0\n",
       "2               Recruiting       500.0\n",
       "3   Active, not recruiting      2500.0\n",
       "4               Recruiting        50.0\n",
       "5  Enrolling by invitation        10.0"
      ]
     },
     "execution_count": 19,
     "metadata": {},
     "output_type": "execute_result"
    }
   ],
   "source": [
    "#What is the average enrollment for each status?\n",
    "\n",
    "df.loc[1:5,['Status','Enrollment']]"
   ]
  },
  {
   "cell_type": "code",
   "execution_count": 20,
   "id": "4ea66098",
   "metadata": {},
   "outputs": [
    {
     "data": {
      "text/plain": [
       "(5749, 27)"
      ]
     },
     "execution_count": 20,
     "metadata": {},
     "output_type": "execute_result"
    }
   ],
   "source": [
    "df.dropna(subset=['Enrollment'],inplace=True)\n",
    "df.shape"
   ]
  },
  {
   "cell_type": "code",
   "execution_count": 21,
   "id": "19ebcea2",
   "metadata": {
    "scrolled": true
   },
   "outputs": [
    {
     "data": {
      "text/html": [
       "<div>\n",
       "<style scoped>\n",
       "    .dataframe tbody tr th:only-of-type {\n",
       "        vertical-align: middle;\n",
       "    }\n",
       "\n",
       "    .dataframe tbody tr th {\n",
       "        vertical-align: top;\n",
       "    }\n",
       "\n",
       "    .dataframe thead th {\n",
       "        text-align: right;\n",
       "    }\n",
       "</style>\n",
       "<table border=\"1\" class=\"dataframe\">\n",
       "  <thead>\n",
       "    <tr style=\"text-align: right;\">\n",
       "      <th></th>\n",
       "      <th>Status</th>\n",
       "      <th>Enrollment</th>\n",
       "    </tr>\n",
       "  </thead>\n",
       "  <tbody>\n",
       "    <tr>\n",
       "      <th>0</th>\n",
       "      <td>Active, not recruiting</td>\n",
       "      <td>60754.117871</td>\n",
       "    </tr>\n",
       "    <tr>\n",
       "      <th>1</th>\n",
       "      <td>Completed</td>\n",
       "      <td>27826.696585</td>\n",
       "    </tr>\n",
       "    <tr>\n",
       "      <th>2</th>\n",
       "      <td>Enrolling by invitation</td>\n",
       "      <td>14319.624309</td>\n",
       "    </tr>\n",
       "    <tr>\n",
       "      <th>3</th>\n",
       "      <td>Not yet recruiting</td>\n",
       "      <td>11579.353586</td>\n",
       "    </tr>\n",
       "    <tr>\n",
       "      <th>4</th>\n",
       "      <td>Recruiting</td>\n",
       "      <td>10894.446346</td>\n",
       "    </tr>\n",
       "    <tr>\n",
       "      <th>5</th>\n",
       "      <td>Suspended</td>\n",
       "      <td>2138.222222</td>\n",
       "    </tr>\n",
       "    <tr>\n",
       "      <th>6</th>\n",
       "      <td>Terminated</td>\n",
       "      <td>74.770270</td>\n",
       "    </tr>\n",
       "    <tr>\n",
       "      <th>7</th>\n",
       "      <td>Withdrawn</td>\n",
       "      <td>0.000000</td>\n",
       "    </tr>\n",
       "  </tbody>\n",
       "</table>\n",
       "</div>"
      ],
      "text/plain": [
       "                    Status    Enrollment\n",
       "0   Active, not recruiting  60754.117871\n",
       "1                Completed  27826.696585\n",
       "2  Enrolling by invitation  14319.624309\n",
       "3       Not yet recruiting  11579.353586\n",
       "4               Recruiting  10894.446346\n",
       "5                Suspended   2138.222222\n",
       "6               Terminated     74.770270\n",
       "7                Withdrawn      0.000000"
      ]
     },
     "execution_count": 21,
     "metadata": {},
     "output_type": "execute_result"
    }
   ],
   "source": [
    "average_enrollment = df.groupby('Status')['Enrollment'].mean().reset_index()\n",
    "average_enrollment"
   ]
  },
  {
   "cell_type": "code",
   "execution_count": 22,
   "id": "d36280ce",
   "metadata": {},
   "outputs": [
    {
     "data": {
      "image/png": "[encoded data removed]",
      "text/plain": [
       "<Figure size 600x400 with 1 Axes>"
      ]
     },
     "metadata": {},
     "output_type": "display_data"
    }
   ],
   "source": [
    "import pandas as pd\n",
    "import seaborn as sns\n",
    "import matplotlib.pyplot as plt\n",
    "\n",
    "sns.set_style(\"whitegrid\")\n",
    "\n",
    "# Create a bar plot for average enrollment by status.\n",
    "plt.figure(figsize=(6, 4))\n",
    "bar_plot = sns.barplot(x='Enrollment', y='Status', data=average_enrollment, errorbar=None, palette='muted')\n",
    "\n",
    "# Set the title of the plot.\n",
    "plt.title('Average Enrollment by Status')\n",
    "\n",
    "# Show the plot.\n",
    "plt.show()\n"
   ]
  },
  {
   "cell_type": "code",
   "execution_count": 23,
   "id": "0024083f",
   "metadata": {},
   "outputs": [
    {
     "data": {
      "text/plain": [
       "Index(['Rank', 'NCT Number', 'Title', 'Acronym', 'Status', 'Study Results',\n",
       "       'Conditions', 'Interventions', 'Outcome Measures',\n",
       "       'Sponsor/Collaborators', 'Gender', 'Age', 'Phases', 'Enrollment',\n",
       "       'Funded Bys', 'Study Type', 'Study Designs', 'Other IDs', 'Start Date',\n",
       "       'Primary Completion Date', 'Completion Date', 'First Posted',\n",
       "       'Results First Posted', 'Last Update Posted', 'Locations',\n",
       "       'Study Documents', 'URL'],\n",
       "      dtype='object')"
      ]
     },
     "execution_count": 23,
     "metadata": {},
     "output_type": "execute_result"
    }
   ],
   "source": [
    "#How many studies are there for each phase of the trial?\n",
    "df.columns"
   ]
  },
  {
   "cell_type": "code",
   "execution_count": 24,
   "id": "632ebebc",
   "metadata": {},
   "outputs": [
    {
     "data": {
      "text/html": [
       "<div>\n",
       "<style scoped>\n",
       "    .dataframe tbody tr th:only-of-type {\n",
       "        vertical-align: middle;\n",
       "    }\n",
       "\n",
       "    .dataframe tbody tr th {\n",
       "        vertical-align: top;\n",
       "    }\n",
       "\n",
       "    .dataframe thead th {\n",
       "        text-align: right;\n",
       "    }\n",
       "</style>\n",
       "<table border=\"1\" class=\"dataframe\">\n",
       "  <thead>\n",
       "    <tr style=\"text-align: right;\">\n",
       "      <th></th>\n",
       "      <th>Phases</th>\n",
       "      <th>Study Type</th>\n",
       "    </tr>\n",
       "  </thead>\n",
       "  <tbody>\n",
       "    <tr>\n",
       "      <th>1</th>\n",
       "      <td>Phase 1|Phase 2</td>\n",
       "      <td>Interventional</td>\n",
       "    </tr>\n",
       "    <tr>\n",
       "      <th>2</th>\n",
       "      <td>NaN</td>\n",
       "      <td>Observational</td>\n",
       "    </tr>\n",
       "    <tr>\n",
       "      <th>3</th>\n",
       "      <td>NaN</td>\n",
       "      <td>Observational</td>\n",
       "    </tr>\n",
       "    <tr>\n",
       "      <th>4</th>\n",
       "      <td>NaN</td>\n",
       "      <td>Observational</td>\n",
       "    </tr>\n",
       "    <tr>\n",
       "      <th>5</th>\n",
       "      <td>Early Phase 1</td>\n",
       "      <td>Interventional</td>\n",
       "    </tr>\n",
       "    <tr>\n",
       "      <th>6</th>\n",
       "      <td>Not Applicable</td>\n",
       "      <td>Interventional</td>\n",
       "    </tr>\n",
       "    <tr>\n",
       "      <th>7</th>\n",
       "      <td>NaN</td>\n",
       "      <td>Observational</td>\n",
       "    </tr>\n",
       "    <tr>\n",
       "      <th>8</th>\n",
       "      <td>Not Applicable</td>\n",
       "      <td>Interventional</td>\n",
       "    </tr>\n",
       "    <tr>\n",
       "      <th>9</th>\n",
       "      <td>Phase 2|Phase 3</td>\n",
       "      <td>Interventional</td>\n",
       "    </tr>\n",
       "    <tr>\n",
       "      <th>10</th>\n",
       "      <td>Early Phase 1</td>\n",
       "      <td>Interventional</td>\n",
       "    </tr>\n",
       "  </tbody>\n",
       "</table>\n",
       "</div>"
      ],
      "text/plain": [
       "             Phases      Study Type\n",
       "1   Phase 1|Phase 2  Interventional\n",
       "2               NaN   Observational\n",
       "3               NaN   Observational\n",
       "4               NaN   Observational\n",
       "5     Early Phase 1  Interventional\n",
       "6    Not Applicable  Interventional\n",
       "7               NaN   Observational\n",
       "8    Not Applicable  Interventional\n",
       "9   Phase 2|Phase 3  Interventional\n",
       "10    Early Phase 1  Interventional"
      ]
     },
     "execution_count": 24,
     "metadata": {},
     "output_type": "execute_result"
    }
   ],
   "source": [
    "df.loc[1:10,['Phases','Study Type']]"
   ]
  },
  {
   "cell_type": "code",
   "execution_count": 25,
   "id": "96c89385",
   "metadata": {
    "scrolled": true
   },
   "outputs": [
    {
     "data": {
      "text/plain": [
       "2427"
      ]
     },
     "execution_count": 25,
     "metadata": {},
     "output_type": "execute_result"
    }
   ],
   "source": [
    "df['Phases'].isnull().sum()"
   ]
  },
  {
   "cell_type": "code",
   "execution_count": 26,
   "id": "02ae10d6",
   "metadata": {
    "scrolled": false
   },
   "outputs": [
    {
     "data": {
      "text/plain": [
       "Phases\n",
       "Not Applicable     1354\n",
       "Phase 2             685\n",
       "Phase 3             450\n",
       "Phase 1             234\n",
       "Phase 2|Phase 3     200\n",
       "Phase 1|Phase 2     192\n",
       "Phase 4             161\n",
       "Early Phase 1        46\n",
       "Name: count, dtype: int64"
      ]
     },
     "execution_count": 26,
     "metadata": {},
     "output_type": "execute_result"
    }
   ],
   "source": [
    "df['Phases'].value_counts()"
   ]
  },
  {
   "cell_type": "code",
   "execution_count": 27,
   "id": "57110797",
   "metadata": {},
   "outputs": [
    {
     "data": {
      "text/html": [
       "<div>\n",
       "<style scoped>\n",
       "    .dataframe tbody tr th:only-of-type {\n",
       "        vertical-align: middle;\n",
       "    }\n",
       "\n",
       "    .dataframe tbody tr th {\n",
       "        vertical-align: top;\n",
       "    }\n",
       "\n",
       "    .dataframe thead th {\n",
       "        text-align: right;\n",
       "    }\n",
       "</style>\n",
       "<table border=\"1\" class=\"dataframe\">\n",
       "  <thead>\n",
       "    <tr style=\"text-align: right;\">\n",
       "      <th></th>\n",
       "      <th>Phases</th>\n",
       "    </tr>\n",
       "  </thead>\n",
       "  <tbody>\n",
       "    <tr>\n",
       "      <th>count</th>\n",
       "      <td>3322</td>\n",
       "    </tr>\n",
       "    <tr>\n",
       "      <th>unique</th>\n",
       "      <td>8</td>\n",
       "    </tr>\n",
       "    <tr>\n",
       "      <th>top</th>\n",
       "      <td>Not Applicable</td>\n",
       "    </tr>\n",
       "    <tr>\n",
       "      <th>freq</th>\n",
       "      <td>1354</td>\n",
       "    </tr>\n",
       "  </tbody>\n",
       "</table>\n",
       "</div>"
      ],
      "text/plain": [
       "                Phases\n",
       "count             3322\n",
       "unique               8\n",
       "top     Not Applicable\n",
       "freq              1354"
      ]
     },
     "execution_count": 27,
     "metadata": {},
     "output_type": "execute_result"
    }
   ],
   "source": [
    "df[['Phases']].describe()"
   ]
  },
  {
   "cell_type": "code",
   "execution_count": 28,
   "id": "c086c8c4",
   "metadata": {},
   "outputs": [],
   "source": [
    "phases_mode = df['Phases'].mode()[0]\n",
    "df['Phases'] = df['Phases'].fillna(phases_mode)"
   ]
  },
  {
   "cell_type": "code",
   "execution_count": 29,
   "id": "a9d4c909",
   "metadata": {},
   "outputs": [
    {
     "data": {
      "text/html": [
       "<div>\n",
       "<style scoped>\n",
       "    .dataframe tbody tr th:only-of-type {\n",
       "        vertical-align: middle;\n",
       "    }\n",
       "\n",
       "    .dataframe tbody tr th {\n",
       "        vertical-align: top;\n",
       "    }\n",
       "\n",
       "    .dataframe thead th {\n",
       "        text-align: right;\n",
       "    }\n",
       "</style>\n",
       "<table border=\"1\" class=\"dataframe\">\n",
       "  <thead>\n",
       "    <tr style=\"text-align: right;\">\n",
       "      <th></th>\n",
       "      <th>Study Type</th>\n",
       "    </tr>\n",
       "  </thead>\n",
       "  <tbody>\n",
       "    <tr>\n",
       "      <th>count</th>\n",
       "      <td>5749</td>\n",
       "    </tr>\n",
       "    <tr>\n",
       "      <th>unique</th>\n",
       "      <td>2</td>\n",
       "    </tr>\n",
       "    <tr>\n",
       "      <th>top</th>\n",
       "      <td>Interventional</td>\n",
       "    </tr>\n",
       "    <tr>\n",
       "      <th>freq</th>\n",
       "      <td>3322</td>\n",
       "    </tr>\n",
       "  </tbody>\n",
       "</table>\n",
       "</div>"
      ],
      "text/plain": [
       "            Study Type\n",
       "count             5749\n",
       "unique               2\n",
       "top     Interventional\n",
       "freq              3322"
      ]
     },
     "execution_count": 29,
     "metadata": {},
     "output_type": "execute_result"
    }
   ],
   "source": [
    "df[['Study Type']].describe()"
   ]
  },
  {
   "cell_type": "code",
   "execution_count": 30,
   "id": "c50cd707",
   "metadata": {},
   "outputs": [
    {
     "data": {
      "text/html": [
       "<div>\n",
       "<style scoped>\n",
       "    .dataframe tbody tr th:only-of-type {\n",
       "        vertical-align: middle;\n",
       "    }\n",
       "\n",
       "    .dataframe tbody tr th {\n",
       "        vertical-align: top;\n",
       "    }\n",
       "\n",
       "    .dataframe thead th {\n",
       "        text-align: right;\n",
       "    }\n",
       "</style>\n",
       "<table border=\"1\" class=\"dataframe\">\n",
       "  <thead>\n",
       "    <tr style=\"text-align: right;\">\n",
       "      <th></th>\n",
       "      <th>Phases</th>\n",
       "      <th>Study Type</th>\n",
       "    </tr>\n",
       "  </thead>\n",
       "  <tbody>\n",
       "    <tr>\n",
       "      <th>0</th>\n",
       "      <td>Early Phase 1</td>\n",
       "      <td>46</td>\n",
       "    </tr>\n",
       "    <tr>\n",
       "      <th>1</th>\n",
       "      <td>Not Applicable</td>\n",
       "      <td>3781</td>\n",
       "    </tr>\n",
       "    <tr>\n",
       "      <th>2</th>\n",
       "      <td>Phase 1</td>\n",
       "      <td>234</td>\n",
       "    </tr>\n",
       "    <tr>\n",
       "      <th>3</th>\n",
       "      <td>Phase 1|Phase 2</td>\n",
       "      <td>192</td>\n",
       "    </tr>\n",
       "    <tr>\n",
       "      <th>4</th>\n",
       "      <td>Phase 2</td>\n",
       "      <td>685</td>\n",
       "    </tr>\n",
       "    <tr>\n",
       "      <th>5</th>\n",
       "      <td>Phase 2|Phase 3</td>\n",
       "      <td>200</td>\n",
       "    </tr>\n",
       "    <tr>\n",
       "      <th>6</th>\n",
       "      <td>Phase 3</td>\n",
       "      <td>450</td>\n",
       "    </tr>\n",
       "    <tr>\n",
       "      <th>7</th>\n",
       "      <td>Phase 4</td>\n",
       "      <td>161</td>\n",
       "    </tr>\n",
       "  </tbody>\n",
       "</table>\n",
       "</div>"
      ],
      "text/plain": [
       "            Phases  Study Type\n",
       "0    Early Phase 1          46\n",
       "1   Not Applicable        3781\n",
       "2          Phase 1         234\n",
       "3  Phase 1|Phase 2         192\n",
       "4          Phase 2         685\n",
       "5  Phase 2|Phase 3         200\n",
       "6          Phase 3         450\n",
       "7          Phase 4         161"
      ]
     },
     "execution_count": 30,
     "metadata": {},
     "output_type": "execute_result"
    }
   ],
   "source": [
    "#How many studies are there for each phase of the trial?\n",
    "trail_per_each_study = df.groupby('Phases')['Study Type'].count().reset_index()\n",
    "trail_per_each_study"
   ]
  },
  {
   "cell_type": "code",
   "execution_count": 31,
   "id": "c51cfaaa",
   "metadata": {
    "scrolled": true
   },
   "outputs": [
    {
     "data": {
      "image/png": "[encoded data removed]",
      "text/plain": [
       "<Figure size 600x400 with 1 Axes>"
      ]
     },
     "metadata": {},
     "output_type": "display_data"
    }
   ],
   "source": [
    "import seaborn as sns\n",
    "\n",
    "# Setting the style\n",
    "sns.set(style=\"whitegrid\")\n",
    "\n",
    "# Creating the plot with Seaborn\n",
    "plt.figure(figsize=(6, 4))\n",
    "sns.barplot(x='Phases', y='Study Type', data=trail_per_each_study, palette='coolwarm')\n",
    "\n",
    "plt.xlabel('Phases')\n",
    "plt.ylabel('Number of Studies')\n",
    "plt.title('Number of Studies for Each Phase of the Trial')\n",
    "plt.xticks(rotation=45)\n",
    "\n",
    "plt.show()\n"
   ]
  },
  {
   "cell_type": "code",
   "execution_count": 32,
   "id": "f15f0187",
   "metadata": {},
   "outputs": [
    {
     "data": {
      "text/plain": [
       "Gender\n",
       "All       5535\n",
       "Female     162\n",
       "Male        44\n",
       "Name: count, dtype: int64"
      ]
     },
     "execution_count": 32,
     "metadata": {},
     "output_type": "execute_result"
    }
   ],
   "source": [
    "df['Gender'].value_counts()"
   ]
  },
  {
   "cell_type": "code",
   "execution_count": 33,
   "id": "2213c187",
   "metadata": {
    "scrolled": true
   },
   "outputs": [
    {
     "data": {
      "image/png": "[encoded data removed]",
      "text/plain": [
       "<Figure size 800x500 with 1 Axes>"
      ]
     },
     "metadata": {},
     "output_type": "display_data"
    }
   ],
   "source": [
    "#What is the average enrollment for studies grouped by gender?\n",
    "\n",
    "\n",
    "plt.figure(figsize=(8, 5))\n",
    "sns.countplot(x='Gender', data=df, palette='pastel')\n",
    "plt.xlabel('Gender')\n",
    "plt.ylabel('Count')\n",
    "plt.title('Distribution of Gender')\n",
    "plt.show()"
   ]
  },
  {
   "cell_type": "code",
   "execution_count": 34,
   "id": "de690d86",
   "metadata": {},
   "outputs": [
    {
     "data": {
      "text/html": [
       "<div>\n",
       "<style scoped>\n",
       "    .dataframe tbody tr th:only-of-type {\n",
       "        vertical-align: middle;\n",
       "    }\n",
       "\n",
       "    .dataframe tbody tr th {\n",
       "        vertical-align: top;\n",
       "    }\n",
       "\n",
       "    .dataframe thead th {\n",
       "        text-align: right;\n",
       "    }\n",
       "</style>\n",
       "<table border=\"1\" class=\"dataframe\">\n",
       "  <thead>\n",
       "    <tr style=\"text-align: right;\">\n",
       "      <th></th>\n",
       "      <th>Gender</th>\n",
       "      <th>Enrollment</th>\n",
       "    </tr>\n",
       "  </thead>\n",
       "  <tbody>\n",
       "    <tr>\n",
       "      <th>0</th>\n",
       "      <td>All</td>\n",
       "      <td>18984.795122</td>\n",
       "    </tr>\n",
       "    <tr>\n",
       "      <th>1</th>\n",
       "      <td>Female</td>\n",
       "      <td>1365.456790</td>\n",
       "    </tr>\n",
       "    <tr>\n",
       "      <th>2</th>\n",
       "      <td>Male</td>\n",
       "      <td>260.886364</td>\n",
       "    </tr>\n",
       "  </tbody>\n",
       "</table>\n",
       "</div>"
      ],
      "text/plain": [
       "   Gender    Enrollment\n",
       "0     All  18984.795122\n",
       "1  Female   1365.456790\n",
       "2    Male    260.886364"
      ]
     },
     "execution_count": 34,
     "metadata": {},
     "output_type": "execute_result"
    }
   ],
   "source": [
    "average_enrollment_by_gender = df.groupby('Gender')['Enrollment'].mean().reset_index()\n",
    "average_enrollment_by_gender"
   ]
  },
  {
   "cell_type": "code",
   "execution_count": 35,
   "id": "9fdf97a7",
   "metadata": {},
   "outputs": [
    {
     "data": {
      "image/png": "[encoded data removed]",
      "text/plain": [
       "<Figure size 640x480 with 1 Axes>"
      ]
     },
     "metadata": {},
     "output_type": "display_data"
    }
   ],
   "source": [
    "# Create a bar chart\n",
    "average_enrollment_by_gender.plot(kind='bar', x='Gender', y='Enrollment', legend=False)\n",
    "\n",
    "# Add labels and title\n",
    "plt.xlabel('Gender')\n",
    "plt.ylabel('Average Enrollment')\n",
    "plt.title('Average Enrollment by Gender')\n",
    "\n",
    "# Show the plot\n",
    "plt.show()"
   ]
  },
  {
   "cell_type": "code",
   "execution_count": 36,
   "id": "d27efa7a",
   "metadata": {},
   "outputs": [
    {
     "name": "stdout",
     "output_type": "stream",
     "text": [
      "<class 'pandas.core.series.Series'>\n",
      "Index: 5749 entries, 0 to 5782\n",
      "Series name: Start Date\n",
      "Non-Null Count  Dtype         \n",
      "--------------  -----         \n",
      "5263 non-null   datetime64[ns]\n",
      "dtypes: datetime64[ns](1)\n",
      "memory usage: 218.9 KB\n"
     ]
    }
   ],
   "source": [
    "#What is the earliest start date for each study type?\n",
    "df['Start Date'].info()\n"
   ]
  },
  {
   "cell_type": "code",
   "execution_count": 37,
   "id": "e34bee1b",
   "metadata": {},
   "outputs": [],
   "source": [
    "df['Start Date'] = pd.to_datetime(df['Start Date'], errors='coerce')"
   ]
  },
  {
   "cell_type": "code",
   "execution_count": 39,
   "id": "aa548d8a",
   "metadata": {},
   "outputs": [
    {
     "data": {
      "text/html": [
       "<div>\n",
       "<style scoped>\n",
       "    .dataframe tbody tr th:only-of-type {\n",
       "        vertical-align: middle;\n",
       "    }\n",
       "\n",
       "    .dataframe tbody tr th {\n",
       "        vertical-align: top;\n",
       "    }\n",
       "\n",
       "    .dataframe thead th {\n",
       "        text-align: right;\n",
       "    }\n",
       "</style>\n",
       "<table border=\"1\" class=\"dataframe\">\n",
       "  <thead>\n",
       "    <tr style=\"text-align: right;\">\n",
       "      <th></th>\n",
       "      <th>Study Type</th>\n",
       "      <th>Start Date</th>\n",
       "    </tr>\n",
       "  </thead>\n",
       "  <tbody>\n",
       "    <tr>\n",
       "      <th>0</th>\n",
       "      <td>Interventional</td>\n",
       "      <td>2011-02-02</td>\n",
       "    </tr>\n",
       "    <tr>\n",
       "      <th>1</th>\n",
       "      <td>Observational</td>\n",
       "      <td>1998-01-01</td>\n",
       "    </tr>\n",
       "  </tbody>\n",
       "</table>\n",
       "</div>"
      ],
      "text/plain": [
       "       Study Type Start Date\n",
       "0  Interventional 2011-02-02\n",
       "1   Observational 1998-01-01"
      ]
     },
     "execution_count": 39,
     "metadata": {},
     "output_type": "execute_result"
    }
   ],
   "source": [
    "earliest_study_type = df.groupby('Study Type')['Start Date'].min().reset_index()\n",
    "earliest_study_type"
   ]
  },
  {
   "cell_type": "code",
   "execution_count": 44,
   "id": "d4814398",
   "metadata": {},
   "outputs": [
    {
     "data": {
      "image/png": "[encoded data removed]",
      "text/plain": [
       "<Figure size 640x480 with 1 Axes>"
      ]
     },
     "metadata": {},
     "output_type": "display_data"
    }
   ],
   "source": [
    "# Create a bar chart\n",
    "earliest_study_type.plot(kind='bar', x='Study Type', y='Start Date', legend=False)\n",
    "\n",
    "# Add labels and title\n",
    "plt.xlabel('Study Type')\n",
    "plt.ylabel('Start Date')\n",
    "plt.title('Earlist study type by date')\n",
    "\n",
    "# Show the plot\n",
    "plt.show()"
   ]
  },
  {
   "cell_type": "code",
   "execution_count": 49,
   "id": "7914c157",
   "metadata": {},
   "outputs": [],
   "source": [
    "#What is the distribution of statuses in the dataset?\n",
    "dis = df[['Status']].value_counts()"
   ]
  },
  {
   "cell_type": "code",
   "execution_count": 50,
   "id": "0d2324be",
   "metadata": {},
   "outputs": [
    {
     "data": {
      "image/png": "[encoded data removed]",
      "text/plain": [
       "<Figure size 640x480 with 1 Axes>"
      ]
     },
     "metadata": {},
     "output_type": "display_data"
    }
   ],
   "source": [
    "# Create a bar chart\n",
    "dis.plot(kind='bar', x='Status' ,legend=False)\n",
    "\n",
    "# Add labels and title\n",
    "plt.xlabel('Study Type')\n",
    "plt.ylabel('Start Date')\n",
    "plt.title('Earlist study type by date')\n",
    "\n",
    "# Show the plot\n",
    "plt.show()"
   ]
  },
  {
   "cell_type": "code",
   "execution_count": null,
   "id": "a1fed1c0",
   "metadata": {},
   "outputs": [],
   "source": []
  }
 ],
 "metadata": {
  "kernelspec": {
   "display_name": "Python 3 (ipykernel)",
   "language": "python",
   "name": "python3"
  },
  "language_info": {
   "codemirror_mode": {
    "name": "ipython",
    "version": 3
   },
   "file_extension": ".py",
   "mimetype": "text/x-python",
   "name": "python",
   "nbconvert_exporter": "python",
   "pygments_lexer": "ipython3",
   "version": "3.11.5"
  }
 },
 "nbformat": 4,
 "nbformat_minor": 5
}

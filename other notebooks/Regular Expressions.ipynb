{
 "cells": [
  {
   "cell_type": "code",
   "execution_count": 1,
   "id": "e893e97c",
   "metadata": {},
   "outputs": [],
   "source": [
    "import re"
   ]
  },
  {
   "cell_type": "markdown",
   "id": "156afc74",
   "metadata": {},
   "source": [
    "Q#1: Write a regular expression function for the following. By “word”, we mean an alphabetic string separated from other words\n",
    "by whitespace, any relevant punctuation, line breaks, and so forth.\n",
    "\n"
   ]
  },
  {
   "cell_type": "markdown",
   "id": "01473392",
   "metadata": {},
   "source": [
    "1. The set of all strings with two consecutive repeated words (e.g., “Humbert Humbert” and “the the” but not “the bug” or “the \n",
    "                                                            big bug”);"
   ]
  },
  {
   "cell_type": "code",
   "execution_count": 3,
   "id": "9538f450",
   "metadata": {},
   "outputs": [
    {
     "name": "stdout",
     "output_type": "stream",
     "text": [
      "['Humbert', 'the']\n"
     ]
    }
   ],
   "source": [
    "word1='“Humbert Humbert” and “the the” but not “the bug” or “the big bug”'\n",
    "pattern=r'\\b(\\w+)\\b\\s+\\1\\b'\n",
    "matches=re.findall(pattern, word1)\n",
    "print(matches)"
   ]
  },
  {
   "cell_type": "code",
   "execution_count": 5,
   "id": "52bb9f0b",
   "metadata": {},
   "outputs": [
    {
     "name": "stdout",
     "output_type": "stream",
     "text": [
      "['123 hello world', '456 another test line', '789 test']\n"
     ]
    }
   ],
   "source": [
    "#2 all strings that start at the beginning of the line with an integer and that end at the end of the line with a word;\n",
    "\n",
    "text = \"\"\"\n",
    "123 hello world\n",
    "456 another test line\n",
    "789 test\n",
    "no match here\"\"\"\n",
    "\n",
    "pattern=r'^\\d+.*\\b\\w+\\b$'\n",
    "matches=re.findall(pattern,text,re.MULTILINE)\n",
    "print(matches)"
   ]
  },
  {
   "cell_type": "code",
   "execution_count": 7,
   "id": "f0bee14b",
   "metadata": {},
   "outputs": [
    {
     "name": "stdout",
     "output_type": "stream",
     "text": [
      "[('The mysterious grotto', ' was dark and quiet, with the raven'), ('In the grotto', ', we saw a raven')]\n"
     ]
    }
   ],
   "source": [
    "#3. all strings that have both the word grotto and the word raven in them (but not, e.g., words like grottos that merely contain\n",
    "#the word grotto);\n",
    "\n",
    "text = \"\"\"\n",
    "The mysterious grotto was dark and quiet, with the raven watching.\n",
    "In the grotto, we saw a raven.\n",
    "The grottos were full of ravens.\n",
    "The raven perched silently.\n",
    "The grotto is a hidden place.\n",
    "\"\"\"\n",
    "pattern=r'(.*\\bgrotto\\b)(.*\\braven\\b).*'\n",
    "matches=re.findall(pattern,text,re.MULTILINE)\n",
    "print(matches)"
   ]
  },
  {
   "cell_type": "code",
   "execution_count": 8,
   "id": "574dff4c",
   "metadata": {},
   "outputs": [
    {
     "name": "stdout",
     "output_type": "stream",
     "text": [
      "valid.email@example.com: valid\n",
      "invalid.email@com: invalid\n",
      "another_valid.email+alias@example.co.uk: valid\n",
      "invalid_email@.example.com: invalid\n",
      "invalid_email@example..com: valid\n",
      "also.valid-email@example.io: valid\n"
     ]
    }
   ],
   "source": [
    "#4.Demonstrate a pattern to check if the email address is valid. \n",
    "pattern = r'^[a-zA-Z0-9_.+-]+@[a-zA-Z0-9-]+\\.[a-zA-Z0-9-.]+$'\n",
    "test_emails = [\n",
    "    \"valid.email@example.com\",\n",
    "    \"invalid.email@com\",\n",
    "    \"another_valid.email+alias@example.co.uk\",\n",
    "    \"invalid_email@.example.com\",\n",
    "    \"invalid_email@example..com\",\n",
    "    \"also.valid-email@example.io\"\n",
    "]\n",
    "\n",
    "# Check each email address against the pattern\n",
    "for email in test_emails:\n",
    "    if re.match(pattern, email):\n",
    "        print(f\"{email}: valid\")\n",
    "    else:\n",
    "        print(f\"{email}: invalid\")"
   ]
  },
  {
   "cell_type": "code",
   "execution_count": 9,
   "id": "d2bf68c0",
   "metadata": {},
   "outputs": [
    {
     "name": "stdout",
     "output_type": "stream",
     "text": [
      "03001234567: valid\n",
      "03123456789: valid\n",
      "03551234567: invalid\n",
      "1234567890: invalid\n"
     ]
    }
   ],
   "source": [
    "#5.Write a function to verify the validity of a phone number, and check if it belongs to the Pakistani Mobile Network. \n",
    "def is_valid_pakistani_mobile_number(phone_number):\n",
    "  \n",
    "    pattern = r'^03[0-4][0-9]{8}$'\n",
    "    \n",
    "    # Check if the phone number matches the pattern\n",
    "    if re.match(pattern, phone_number):\n",
    "        return True\n",
    "    else:\n",
    "        return False\n",
    "test_numbers = [\n",
    "    \"03001234567\",  # Valid\n",
    "    \"03123456789\",  # Valid\n",
    "    \"03551234567\",  # Invalid (starts with 035)\n",
    "    \"1234567890\",   # Invalid (doesn't start with 03)\n",
    "]\n",
    "for number in test_numbers:\n",
    "    result = \"valid\" if is_valid_pakistani_mobile_number(number) else \"invalid\"\n",
    "    print(f\"{number}: {result}\")"
   ]
  },
  {
   "cell_type": "code",
   "execution_count": null,
   "id": "b2243ef5",
   "metadata": {},
   "outputs": [],
   "source": []
  }
 ],
 "metadata": {
  "kernelspec": {
   "display_name": "Python 3 (ipykernel)",
   "language": "python",
   "name": "python3"
  },
  "language_info": {
   "codemirror_mode": {
    "name": "ipython",
    "version": 3
   },
   "file_extension": ".py",
   "mimetype": "text/x-python",
   "name": "python",
   "nbconvert_exporter": "python",
   "pygments_lexer": "ipython3",
   "version": "3.11.5"
  }
 },
 "nbformat": 4,
 "nbformat_minor": 5
}
